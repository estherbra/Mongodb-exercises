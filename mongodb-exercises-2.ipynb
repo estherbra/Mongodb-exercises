{
 "cells": [
  {
   "cell_type": "markdown",
   "metadata": {},
   "source": [
    "## Atualização de Documentos\n",
    "1.Mostrar todos os documentos da collection produto do banco de dados seu nome"
   ]
  },
  {
   "cell_type": "code",
   "execution_count": null,
   "metadata": {
    "vscode": {
     "languageId": "plaintext"
    }
   },
   "outputs": [],
   "source": [
    "db.produto.find()\n",
    "\n",
    "{ \"_id\" : 1, \"nome\" : \"cpu i5\", \"qtd\" : \"15\" }\n",
    "{ \"_id\" : 2, \"nome\" : \"memória ram\", \"qtd\" : 10, \"descricao\" : { \"armazenamento\" : \"8GB\", \"tipo\" : \"DDR4\" } }\n",
    "{ \"_id\" : 3, \"nome\" : \"mouse\", \"qtd\" : 50, \"descricao\" : { \"conexao\" : \"USB\", \"so\" : [ \"Windows\", \"Mac\", \"Linux\" ] } }\n",
    "{ \"_id\" : 4, \"nome\" : \"hd externo\", \"qtd\" : 20, \"descricao\" : { \"conexao\" : \"USB\", \"armazenamento\" : \"500GB\", \"so\" : [ \"Windows 10\", \"Windows 8\", \"Windows 7\" ] } }"
   ]
  },
  {
   "cell_type": "markdown",
   "metadata": {},
   "source": [
    "2.Atualizar o valor do campo nome para “cpu i7” do id 1"
   ]
  },
  {
   "cell_type": "code",
   "execution_count": null,
   "metadata": {
    "vscode": {
     "languageId": "plaintext"
    }
   },
   "outputs": [],
   "source": [
    "db.produto.updateOne({_id:1},{$set: {\"nome\":\"cpu i7\"}})\n",
    "{ \"acknowledged\" : true, \"matchedCount\" : 1, \"modifiedCount\" : 1 }"
   ]
  },
  {
   "cell_type": "markdown",
   "metadata": {},
   "source": [
    "3.Atualizar o atributo quantidade para o tipo inteiro do id: 1"
   ]
  },
  {
   "cell_type": "code",
   "execution_count": null,
   "metadata": {
    "vscode": {
     "languageId": "plaintext"
    }
   },
   "outputs": [],
   "source": [
    "db.produto.updateOne({_id:1},{$set: {\"qtd\": 15}})\n",
    "{ \"acknowledged\" : true, \"matchedCount\" : 1, \"modifiedCount\" : 1 }"
   ]
  },
  {
   "cell_type": "markdown",
   "metadata": {},
   "source": [
    "4.Atualizar o valor do campo qtd para 30 de todos os documentos, com o campo qtd >= 30"
   ]
  },
  {
   "cell_type": "code",
   "execution_count": null,
   "metadata": {
    "vscode": {
     "languageId": "plaintext"
    }
   },
   "outputs": [],
   "source": [
    "db.produto.updateMany({\"qtd\":{$gte:30}},{$set: {\"qtd\":30}})\n",
    "{ \"acknowledged\" : true, \"matchedCount\" : 1, \"modifiedCount\" : 1 }"
   ]
  },
  {
   "cell_type": "markdown",
   "metadata": {},
   "source": [
    "5.Atualizar o nome do campo “descricao.so” para “descricao.sistema” de todos os documentos"
   ]
  },
  {
   "cell_type": "code",
   "execution_count": null,
   "metadata": {
    "vscode": {
     "languageId": "plaintext"
    }
   },
   "outputs": [],
   "source": [
    "db.produto.updateMany({},{$rename: {\"descricao.so\":\"descricao.sistema\"}})\n",
    "{ \"acknowledged\" : true, \"matchedCount\" : 4, \"modifiedCount\" : 2 }"
   ]
  },
  {
   "cell_type": "markdown",
   "metadata": {},
   "source": [
    "6.Atualizar o valor do campo descricao.conexao para “USB 2.0” de todos os documentos, com o campo descricao.conexão = “USB”"
   ]
  },
  {
   "cell_type": "code",
   "execution_count": null,
   "metadata": {
    "vscode": {
     "languageId": "plaintext"
    }
   },
   "outputs": [],
   "source": [
    "db.produto.updateMany({\"descricao.conexao\":\"USB\"},{$set: {\"descricao.conexao\":\"USB 2.0\"}})\n",
    "{ \"acknowledged\" : true, \"matchedCount\" : 2, \"modifiedCount\" : 2 }"
   ]
  },
  {
   "cell_type": "markdown",
   "metadata": {},
   "source": [
    "7.Atualizar o valor do campo descricao.conexao para “USB 3.0” de todos os documentos, com o campo descricao.conexao = “USB 2.0” e adicionar o campo “data_modificacao”, com a data da atualização dos documentos"
   ]
  },
  {
   "cell_type": "code",
   "execution_count": null,
   "metadata": {
    "vscode": {
     "languageId": "plaintext"
    }
   },
   "outputs": [],
   "source": [
    "db.produto.updateMany({\"descricao.conexao\":\"USB 2.0\"},{$set: {\"descricao.conexao\":\"USB 3.0\"}, $currentDate: {data_modificacao:{$type: \"date\"}}})\n",
    "{ \"acknowledged\" : true, \"matchedCount\" : 2, \"modifiedCount\" : 2 }"
   ]
  },
  {
   "cell_type": "markdown",
   "metadata": {},
   "source": [
    "8.Atualizar um dos elementos do array descricao.sistema de “Windows” para “Windows 10” do id 3"
   ]
  },
  {
   "cell_type": "code",
   "execution_count": null,
   "metadata": {
    "vscode": {
     "languageId": "plaintext"
    }
   },
   "outputs": [],
   "source": [
    "db.produto.updateOne({\"_id\":3, \"descricao.sistema\":\"Windows\"},{$set: {\"decricao.sistema.$\":\"Windows 10\"}})\n",
    "{ \"acknowledged\" : true, \"matchedCount\" : 1, \"modifiedCount\" : 1 }"
   ]
  },
  {
   "cell_type": "markdown",
   "metadata": {},
   "source": [
    "9.Acrescentar o valor “Linux” no array descricao.sistema do id 4"
   ]
  },
  {
   "cell_type": "code",
   "execution_count": null,
   "metadata": {
    "vscode": {
     "languageId": "plaintext"
    }
   },
   "outputs": [],
   "source": [
    "db.produto.updateOne({_id:4},{$push: {\"descricao.sistema\":\"Linux\"}})\n",
    "{ \"acknowledged\" : true, \"matchedCount\" : 1, \"modifiedCount\" : 1 }"
   ]
  },
  {
   "cell_type": "markdown",
   "metadata": {},
   "source": [
    "10.Remover o valor “Mac” no array descricao.sistema do id 3 e adicionar o campo “ts_modificacao”, com o timestamp da atualização dos documentos"
   ]
  },
  {
   "cell_type": "code",
   "execution_count": null,
   "metadata": {
    "vscode": {
     "languageId": "plaintext"
    }
   },
   "outputs": [],
   "source": [
    "db.produto.updateOne({_id:3},{$pull: {\"descricao.sistema\":\"Mac\"}, $currentDate: {ts_modificado: {$type:\"timestamp\"}}})\n",
    "{ \"acknowledged\" : true, \"matchedCount\" : 1, \"modifiedCount\" : 1 }\n",
    "\n",
    "db.produto.find()\n",
    "\n",
    "{ \"_id\" : 1, \"nome\" : \"cpu i7\", \"qtd\" : 15 }\n",
    "{ \"_id\" : 2, \"nome\" : \"memória ram\", \"qtd\" : 10, \"descricao\" : { \"armazenamento\" : \"8GB\", \"tipo\" : \"DDR4\" } }\n",
    "{ \"_id\" : 3, \"nome\" : \"mouse\", \"qtd\" : 30, \"descricao\" : { \"conexao\" : \"USB 3.0\", \"sistema\" : [ \"Windows 10\", \"Linux\" ] }, \"decricao\" : { \"sistema\" : { \"0\" : \"Windows 10\" } }, \"data_modificacao\" : ISODate(\"2022-06-10T04:13:42.799Z\"), \"ts_modificado\" : Timestamp(1654838400, 1) }\n",
    "{ \"_id\" : 4, \"nome\" : \"hd externo\", \"qtd\" : 20, \"descricao\" : { \"conexao\" : \"USB 3.0\", \"armazenamento\" : \"500GB\", \"sistema\" : [ \"Windows 10\", \"Windows 8\", \"Windows 7\", \"Linux\" ] }, \"data_modificacao\" : ISODate(\"2022-06-10T04:13:42.799Z\") }"
   ]
  },
  {
   "cell_type": "markdown",
   "metadata": {},
   "source": [
    "## CRUD de Documentos - Revisão\n",
    "1.Criar a collection teste no banco de dados seu nome"
   ]
  },
  {
   "cell_type": "code",
   "execution_count": null,
   "metadata": {
    "vscode": {
     "languageId": "plaintext"
    }
   },
   "outputs": [],
   "source": [
    "db.createCollection('teste')"
   ]
  },
  {
   "cell_type": "markdown",
   "metadata": {},
   "source": [
    "2.Inserir o seguinte documento:\n",
    "\n",
    "Campo: usuario, valor: Semantix\n",
    "Campo: data_acesso, valor: data atual no formato ISODate"
   ]
  },
  {
   "cell_type": "code",
   "execution_count": null,
   "metadata": {
    "vscode": {
     "languageId": "plaintext"
    }
   },
   "outputs": [],
   "source": [
    "db.teste.insertOne({usuario:\"Semantix\",data_acesso: new Date()})"
   ]
  },
  {
   "cell_type": "markdown",
   "metadata": {},
   "source": [
    "3.Buscar todos os documentos do ano >= 2020"
   ]
  },
  {
   "cell_type": "code",
   "execution_count": null,
   "metadata": {
    "vscode": {
     "languageId": "plaintext"
    }
   },
   "outputs": [],
   "source": [
    "db.teste.find({\"data_acesso\": {$gte: new Date (\"2020\")}})"
   ]
  },
  {
   "cell_type": "markdown",
   "metadata": {},
   "source": [
    "4.Atualizar o campo “data_acesso” para timestamp com o valor da atualização do usuario Semantix"
   ]
  },
  {
   "cell_type": "code",
   "execution_count": null,
   "metadata": {
    "vscode": {
     "languageId": "plaintext"
    }
   },
   "outputs": [],
   "source": [
    "db.teste.updateOne({usuario: \"Semantix\"},{$currentDate:{data_acesso: {$type: \"timestamp\"}}})\n",
    "{ \"acknowledged\" : true, \"matchedCount\" : 1, \"modifiedCount\" : 1 }"
   ]
  },
  {
   "cell_type": "markdown",
   "metadata": {},
   "source": [
    "5.Buscar todos os documentos"
   ]
  },
  {
   "cell_type": "code",
   "execution_count": null,
   "metadata": {
    "vscode": {
     "languageId": "plaintext"
    }
   },
   "outputs": [],
   "source": [
    "db.teste.find()\n",
    "{ \"_id\" : ObjectId(\"62a2dad499377d45ac720ef0\"), \"usuario\" : \"Semantix\", \"data_acesso\" : Timestamp(1654840910, 1) }"
   ]
  },
  {
   "cell_type": "markdown",
   "metadata": {},
   "source": [
    "6.Deletar o documento criado pelo id"
   ]
  },
  {
   "cell_type": "code",
   "execution_count": null,
   "metadata": {
    "vscode": {
     "languageId": "plaintext"
    }
   },
   "outputs": [],
   "source": [
    "db.teste.deleteOne({\"_id\" : ObjectId(\"62a2dad499377d45ac720ef0\") })\n",
    "{ \"acknowledged\" : true, \"deletedCount\" : 1 }"
   ]
  },
  {
   "cell_type": "markdown",
   "metadata": {},
   "source": [
    "7.Deletar a collection"
   ]
  },
  {
   "cell_type": "code",
   "execution_count": null,
   "metadata": {
    "vscode": {
     "languageId": "plaintext"
    }
   },
   "outputs": [],
   "source": [
    "db.teste.drop()"
   ]
  }
 ],
 "metadata": {
  "language_info": {
   "name": "python"
  },
  "orig_nbformat": 4
 },
 "nbformat": 4,
 "nbformat_minor": 2
}

{
 "cells": [
  {
   "cell_type": "markdown",
   "metadata": {},
   "source": [
    "## Comando Básicos para BD, Collections e Documentos\n",
    "1.Criar o banco de dados com seu nome."
   ]
  },
  {
   "cell_type": "code",
   "execution_count": null,
   "metadata": {
    "vscode": {
     "languageId": "plaintext"
    }
   },
   "outputs": [],
   "source": [
    "use esther"
   ]
  },
  {
   "cell_type": "markdown",
   "metadata": {},
   "source": [
    "2.Listar os banco de dados."
   ]
  },
  {
   "cell_type": "code",
   "execution_count": null,
   "metadata": {
    "vscode": {
     "languageId": "plaintext"
    }
   },
   "outputs": [],
   "source": [
    "show dbs\n",
    "\n",
    "admin   0.000GB\n",
    "config  0.000GB\n",
    "local   0.000GB"
   ]
  },
  {
   "cell_type": "markdown",
   "metadata": {},
   "source": [
    "3.Criar a collection produto no bd com seu nome."
   ]
  },
  {
   "cell_type": "code",
   "execution_count": null,
   "metadata": {
    "vscode": {
     "languageId": "plaintext"
    }
   },
   "outputs": [],
   "source": [
    "db.createCollection('produto')"
   ]
  },
  {
   "cell_type": "markdown",
   "metadata": {},
   "source": [
    "4.Listar os banco de dados."
   ]
  },
  {
   "cell_type": "code",
   "execution_count": null,
   "metadata": {
    "vscode": {
     "languageId": "plaintext"
    }
   },
   "outputs": [],
   "source": [
    "#o banco de dados criado só aparece se houver collection dentro\n",
    "show dbs\n",
    "\n",
    "admin   0.000GB\n",
    "config  0.000GB\n",
    "esther  0.000GB\n",
    "local   0.000GB"
   ]
  },
  {
   "cell_type": "markdown",
   "metadata": {},
   "source": [
    "5.Listar as collections."
   ]
  },
  {
   "cell_type": "code",
   "execution_count": null,
   "metadata": {
    "vscode": {
     "languageId": "plaintext"
    }
   },
   "outputs": [],
   "source": [
    "show collections\n",
    "\n",
    "produto"
   ]
  },
  {
   "cell_type": "markdown",
   "metadata": {},
   "source": [
    "6.Inserir os seguintes documentos na collection produto:\n",
    "\n",
    "_id: 1, \"nome\": “cpu i5\", \"qtd\": \"15“\n",
    "_id: 2, nome: “memória ram\", qtd: 10, descricao: {armazenamento: “8GB”, tipo:“DDR4“}\n",
    "_id: 3, nome: \"mouse\", qtd: 50, descricao: {conexao: “USB”, so: [“Windows”, “Mac”, “Linux“]}\n",
    "_id: 4, nome: “hd externo\", \"qtd\": 20, descricao: {conexao: “USB”, armazenamento: “500GB”, so: [“Windows 10”, “Windows 8”, “Windows 7”]}"
   ]
  },
  {
   "cell_type": "code",
   "execution_count": null,
   "metadata": {
    "vscode": {
     "languageId": "plaintext"
    }
   },
   "outputs": [],
   "source": [
    "db.produto.insertOne({_id: 1, \"nome\": \"cpu i5\", \"qtd\": \"15\"})\n",
    "db.produto.insertOne({_id: 2, nome: \"memória ram\", qtd: 10, descricao: {armazenamento: \"8GB\", tipo:\"DDR4\"}})\n",
    "db.produto.insertOne({_id: 3, nome: \"mouse\", qtd: 50, descricao: {conexao: \"USB\", so: [\"Windows\", \"Mac\", \"Linux\"]}})\n",
    "db.produto.insertOne({_id: 4, nome: \"hd externo\", \"qtd\": 20, descricao: {conexao: \"USB\", armazenamento: \"500GB\", so: [\"Windows 10\", \"Windows 8\", \"Windows 7\"]}})"
   ]
  },
  {
   "cell_type": "markdown",
   "metadata": {},
   "source": [
    "7.Mostrar todos os documentos."
   ]
  },
  {
   "cell_type": "code",
   "execution_count": null,
   "metadata": {
    "vscode": {
     "languageId": "plaintext"
    }
   },
   "outputs": [],
   "source": [
    "db.produto.find().pretty()\n",
    "\n",
    "{ \"_id\" : 1, \"nome\" : \"cpu i5\", \"qtd\" : \"15\" }\n",
    "{\n",
    "        \"_id\" : 2,\n",
    "        \"nome\" : \"memória ram\",\n",
    "        \"qtd\" : 10,\n",
    "        \"descricao\" : {\n",
    "                \"armazenamento\" : \"8GB\",\n",
    "                \"tipo\" : \"DDR4\"\n",
    "        }\n",
    "}\n",
    "{\n",
    "        \"_id\" : 3,\n",
    "        \"nome\" : \"mouse\",\n",
    "        \"qtd\" : 50,\n",
    "        \"descricao\" : {\n",
    "                \"conexao\" : \"USB\",\n",
    "                \"so\" : [\n",
    "                        \"Windows\",\n",
    "                        \"Mac\",\n",
    "                        \"Linux\"\n",
    "                ]\n",
    "        }\n",
    "}\n",
    "{\n",
    "        \"_id\" : 4,\n",
    "        \"nome\" : \"hd externo\",\n",
    "        \"qtd\" : 20,\n",
    "        \"descricao\" : {\n",
    "                \"conexao\" : \"USB\",\n",
    "                \"armazenamento\" : \"500GB\",\n",
    "                \"so\" : [\n",
    "                        \"Windows 10\",\n",
    "                        \"Windows 8\",\n",
    "                        \"Windows 7\"\n",
    "                ]\n",
    "        }\n",
    "}"
   ]
  },
  {
   "cell_type": "markdown",
   "metadata": {},
   "source": [
    "## Consulta básica em documentos\n",
    "1.Pesquisar na collection produto, os documentos com os seguintes atributos:\n",
    "a) Nome = mouse"
   ]
  },
  {
   "cell_type": "code",
   "execution_count": null,
   "metadata": {
    "vscode": {
     "languageId": "plaintext"
    }
   },
   "outputs": [],
   "source": [
    "db.produto.find({nome:\"mouse\"})\n",
    "\n",
    "{ \"_id\" : 3, \"nome\" : \"mouse\", \"qtd\" : 50, \"descricao\" : { \"conexao\" : \"USB\", \"so\" : [ \"Windows\", \"Mac\", \"Linux\" ] } }"
   ]
  },
  {
   "cell_type": "markdown",
   "metadata": {},
   "source": [
    "b) Quantidade = 20 e apresentar apenas o campo nome"
   ]
  },
  {
   "cell_type": "code",
   "execution_count": null,
   "metadata": {
    "vscode": {
     "languageId": "plaintext"
    }
   },
   "outputs": [],
   "source": [
    "db.produto.find({qtd : 20},{nome:1})\n",
    "\n",
    "{ \"_id\" : 4, \"nome\" : \"hd externo\" }"
   ]
  },
  {
   "cell_type": "markdown",
   "metadata": {},
   "source": [
    "c) Quantidade <= 20 e apresentar apenas os campos nome e qtd"
   ]
  },
  {
   "cell_type": "code",
   "execution_count": null,
   "metadata": {
    "vscode": {
     "languageId": "plaintext"
    }
   },
   "outputs": [],
   "source": [
    "db.produto.find({qtd :{$lte:20} },{nome:1},{qtd:1})\n",
    "\n",
    "{ \"_id\" : 2, \"nome\" : \"memória ram\" }\n",
    "{ \"_id\" : 4, \"nome\" : \"hd externo\" }"
   ]
  },
  {
   "cell_type": "markdown",
   "metadata": {},
   "source": [
    "d) Quantidade entre 10 e 20"
   ]
  },
  {
   "cell_type": "code",
   "execution_count": null,
   "metadata": {
    "vscode": {
     "languageId": "plaintext"
    }
   },
   "outputs": [],
   "source": [
    "db.produto.find({qtd :{$lte:20, $gte:10} })\n",
    "\n",
    "{ \"_id\" : 2, \"nome\" : \"memória ram\", \"qtd\" : 10, \"descricao\" : { \"armazenamento\" : \"8GB\", \"tipo\" : \"DDR4\" } }\n",
    "{ \"_id\" : 4, \"nome\" : \"hd externo\", \"qtd\" : 20, \"descricao\" : { \"conexao\" : \"USB\", \"armazenamento\" : \"500GB\", \"so\" : [ \"Windows 10\", \"Windows 8\", \"Windows 7\" ] } }"
   ]
  },
  {
   "cell_type": "markdown",
   "metadata": {},
   "source": [
    "e) Conexão = USB e não apresentar o campo _id e qtd"
   ]
  },
  {
   "cell_type": "code",
   "execution_count": null,
   "metadata": {
    "vscode": {
     "languageId": "plaintext"
    }
   },
   "outputs": [],
   "source": [
    "db.produto.find({\"descricao.conexao\" : \"USB\" },{_id:0,qtd:0})\n",
    "\n",
    "{ \"nome\" : \"mouse\", \"descricao\" : { \"conexao\" : \"USB\", \"so\" : [ \"Windows\", \"Mac\", \"Linux\" ] } }\n",
    "{ \"nome\" : \"hd externo\", \"descricao\" : { \"conexao\" : \"USB\", \"armazenamento\" : \"500GB\", \"so\" : [ \"Windows 10\", \"Windows 8\", \"Windows 7\" ] } }"
   ]
  },
  {
   "cell_type": "markdown",
   "metadata": {},
   "source": [
    "f) SO que contenha “Windows” ou “Windows 10”"
   ]
  },
  {
   "cell_type": "code",
   "execution_count": null,
   "metadata": {
    "vscode": {
     "languageId": "plaintext"
    }
   },
   "outputs": [],
   "source": [
    "db.produto.find({\"descricao.so\": {$in: [\"Windows\", \"Windows 10\"] }})\n",
    "\n",
    "{ \"_id\" : 3, \"nome\" : \"mouse\", \"qtd\" : 50, \"descricao\" : { \"conexao\" : \"USB\", \"so\" : [ \"Windows\", \"Mac\", \"Linux\" ] } }\n",
    "{ \"_id\" : 4, \"nome\" : \"hd externo\", \"qtd\" : 20, \"descricao\" : { \"conexao\" : \"USB\", \"armazenamento\" : \"500GB\", \"so\" : [ \"Windows 10\", \"Windows 8\", \"Windows 7\" ] } }"
   ]
  },
  {
   "cell_type": "markdown",
   "metadata": {},
   "source": [
    "## Outras Opções com Consultas\n",
    "1.Realizar as seguintes pesquisas na collection produto:\n",
    "a) Mostrar os documentos ordenados pelo nome em ordem alfabética."
   ]
  },
  {
   "cell_type": "code",
   "execution_count": null,
   "metadata": {
    "vscode": {
     "languageId": "plaintext"
    }
   },
   "outputs": [],
   "source": [
    "db.produto.find().sort({\"nome\":1})\n",
    "\n",
    "{ \"_id\" : 1, \"nome\" : \"cpu i5\", \"qtd\" : \"15\" }\n",
    "{ \"_id\" : 4, \"nome\" : \"hd externo\", \"qtd\" : 20, \"descricao\" : { \"conexao\" : \"USB\", \"armazenamento\" : \"500GB\", \"so\" : [ \"Windows 10\", \"Windows 8\", \"Windows 7\" ] } }\n",
    "{ \"_id\" : 2, \"nome\" : \"memória ram\", \"qtd\" : 10, \"descricao\" : { \"armazenamento\" : \"8GB\", \"tipo\" : \"DDR4\" } }\n",
    "{ \"_id\" : 3, \"nome\" : \"mouse\", \"qtd\" : 50, \"descricao\" : { \"conexao\" : \"USB\", \"so\" : [ \"Windows\", \"Mac\", \"Linux\" ] } }"
   ]
  },
  {
   "cell_type": "markdown",
   "metadata": {},
   "source": [
    "b) Mostrar os 3 primeiros documentos ordenados por nome e quantidade."
   ]
  },
  {
   "cell_type": "code",
   "execution_count": null,
   "metadata": {
    "vscode": {
     "languageId": "plaintext"
    }
   },
   "outputs": [],
   "source": [
    " db.produto.find().sort({\"nome\":1, \"qtd\":1}).limit(3)\n",
    " \n",
    "{ \"_id\" : 1, \"nome\" : \"cpu i5\", \"qtd\" : \"15\" }\n",
    "{ \"_id\" : 4, \"nome\" : \"hd externo\", \"qtd\" : 20, \"descricao\" : { \"conexao\" : \"USB\", \"armazenamento\" : \"500GB\", \"so\" : [ \"Windows 10\", \"Windows 8\", \"Windows 7\" ] } }\n",
    "{ \"_id\" : 2, \"nome\" : \"memória ram\", \"qtd\" : 10, \"descricao\" : { \"armazenamento\" : \"8GB\", \"tipo\" : \"DDR4\" } }"
   ]
  },
  {
   "cell_type": "markdown",
   "metadata": {},
   "source": [
    "c) Mostrar apenas 1 documento que tenha o atributo Conexão = USB."
   ]
  },
  {
   "cell_type": "code",
   "execution_count": null,
   "metadata": {
    "vscode": {
     "languageId": "plaintext"
    }
   },
   "outputs": [],
   "source": [
    "db.produto.find({\"descricao.conexao\":\"USB\"}).limit(1)\n",
    "\n",
    "{ \"_id\" : 3, \"nome\" : \"mouse\", \"qtd\" : 50, \"descricao\" : { \"conexao\" : \"USB\", \"so\" : [ \"Windows\", \"Mac\", \"Linux\" ] } }"
   ]
  },
  {
   "cell_type": "markdown",
   "metadata": {},
   "source": [
    "d) Mostrar os documentos de tenham o atributo conexão = USB e quantidade menor que 25."
   ]
  },
  {
   "cell_type": "code",
   "execution_count": null,
   "metadata": {
    "vscode": {
     "languageId": "plaintext"
    }
   },
   "outputs": [],
   "source": [
    " db.produto.find({\"descricao.conexao\":\"USB\", qtd: {$lt:25}})\n",
    " \n",
    "{ \"_id\" : 4, \"nome\" : \"hd externo\", \"qtd\" : 20, \"descricao\" : { \"conexao\" : \"USB\", \"armazenamento\" : \"500GB\", \"so\" : [ \"Windows 10\", \"Windows 8\", \"Windows 7\" ] } }"
   ]
  },
  {
   "cell_type": "markdown",
   "metadata": {},
   "source": [
    "e) Mostrar os documentos de tenham o atributo conexão = USB ou quantidade menor que 25."
   ]
  },
  {
   "cell_type": "code",
   "execution_count": null,
   "metadata": {
    "vscode": {
     "languageId": "plaintext"
    }
   },
   "outputs": [],
   "source": [
    " db.produto.find({$or: [{\"descricao.conexao\":\"USB\"}, {qtd: {$lt:25}}]})\n",
    " \n",
    "{ \"_id\" : 2, \"nome\" : \"memória ram\", \"qtd\" : 10, \"descricao\" : { \"armazenamento\" : \"8GB\", \"tipo\" : \"DDR4\" } }\n",
    "{ \"_id\" : 3, \"nome\" : \"mouse\", \"qtd\" : 50, \"descricao\" : { \"conexao\" : \"USB\", \"so\" : [ \"Windows\", \"Mac\", \"Linux\" ] } }\n",
    "{ \"_id\" : 4, \"nome\" : \"hd externo\", \"qtd\" : 20, \"descricao\" : { \"conexao\" : \"USB\", \"armazenamento\" : \"500GB\", \"so\" : [ \"Windows 10\", \"Windows 8\", \"Windows 7\" ] } }"
   ]
  },
  {
   "cell_type": "markdown",
   "metadata": {},
   "source": [
    "f) Mostrar apenas os id dos documentos de tenham o atributo conexão = USB ou quantidade menor que 25."
   ]
  },
  {
   "cell_type": "code",
   "execution_count": null,
   "metadata": {
    "vscode": {
     "languageId": "plaintext"
    }
   },
   "outputs": [],
   "source": [
    "db.produto.find({$or: [{\"descricao.conexao\":\"USB\"}, {qtd: {$lt:25}}]}, {_id:1})\n",
    "\n",
    "{ \"_id\" : 2 }\n",
    "{ \"_id\" : 3 }\n",
    "{ \"_id\" : 4 }"
   ]
  }
 ],
 "metadata": {
  "language_info": {
   "name": "python"
  },
  "orig_nbformat": 4
 },
 "nbformat": 4,
 "nbformat_minor": 2
}

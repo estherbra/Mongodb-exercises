{
 "cells": [
  {
   "cell_type": "markdown",
   "metadata": {},
   "source": [
    "## Index e plano de execução\n",
    "1.Mostrar todos os documentos da collection produto do banco de dados seu nome"
   ]
  },
  {
   "cell_type": "code",
   "execution_count": null,
   "metadata": {
    "vscode": {
     "languageId": "plaintext"
    }
   },
   "outputs": [],
   "source": [
    "db.produto.find()\n",
    "\n",
    "{ \"_id\" : 1, \"nome\" : \"cpu i7\", \"qtd\" : 15 }\n",
    "{ \"_id\" : 2, \"nome\" : \"memória ram\", \"qtd\" : 10, \"descricao\" : { \"armazenamento\" : \"8GB\", \"tipo\" : \"DDR4\" } }\n",
    "{ \"_id\" : 3, \"nome\" : \"mouse\", \"qtd\" : 30, \"descricao\" : { \"conexao\" : \"USB 3.0\", \"sistema\" : [ \"Windows 10\", \"Linux\" ] }, \"decricao\" : { \"sistema\" : { \"0\" : \"Windows 10\" } }, \"data_modificacao\" : ISODate(\"2022-06-10T04:13:42.799Z\"), \"ts_modificado\" : Timestamp(1654838400, 1) }\n",
    "{ \"_id\" : 4, \"nome\" : \"hd externo\", \"qtd\" : 20, \"descricao\" : { \"conexao\" : \"USB 3.0\", \"armazenamento\" : \"500GB\", \"sistema\" : [ \"Windows 10\", \"Windows 8\", \"Windows 7\", \"Linux\" ] }, \"data_modificacao\" : ISODate(\"2022-06-10T04:13:42.799Z\") }"
   ]
  },
  {
   "cell_type": "markdown",
   "metadata": {},
   "source": [
    "2.Criar o index “query_produto” para pesquisar o campo nome do produto em ordem alfabética"
   ]
  },
  {
   "cell_type": "code",
   "execution_count": null,
   "metadata": {
    "vscode": {
     "languageId": "plaintext"
    }
   },
   "outputs": [],
   "source": [
    "db.produto.createIndex({nome:1},{name:\"query_produto\"})\n",
    "\n",
    "{\n",
    "        \"numIndexesBefore\" : 1,\n",
    "        \"numIndexesAfter\" : 2,\n",
    "        \"createdCollectionAutomatically\" : false,\n",
    "        \"ok\" : 1\n",
    "}"
   ]
  },
  {
   "cell_type": "markdown",
   "metadata": {},
   "source": [
    "3.Pesquisar todos os índices da collection produto"
   ]
  },
  {
   "cell_type": "code",
   "execution_count": null,
   "metadata": {
    "vscode": {
     "languageId": "plaintext"
    }
   },
   "outputs": [],
   "source": [
    "db.produto.getIndexes()\n",
    "\n",
    "[\n",
    "        {\n",
    "                \"v\" : 2,\n",
    "                \"key\" : {\n",
    "                        \"_id\" : 1\n",
    "                },\n",
    "                \"name\" : \"_id_\"\n",
    "        },\n",
    "        {\n",
    "                \"v\" : 2,\n",
    "                \"key\" : {\n",
    "                        \"nome\" : 1\n",
    "                },\n",
    "                \"name\" : \"query_produto\"\n",
    "        }\n",
    "]"
   ]
  },
  {
   "cell_type": "markdown",
   "metadata": {},
   "source": [
    "4.Pesquisar todos os documentos da collection produto"
   ]
  },
  {
   "cell_type": "code",
   "execution_count": null,
   "metadata": {
    "vscode": {
     "languageId": "plaintext"
    }
   },
   "outputs": [],
   "source": [
    "db.produto.find()\n",
    "\n",
    "{ \"_id\" : 1, \"nome\" : \"cpu i7\", \"qtd\" : 15 }\n",
    "{ \"_id\" : 2, \"nome\" : \"memória ram\", \"qtd\" : 10, \"descricao\" : { \"armazenamento\" : \"8GB\", \"tipo\" : \"DDR4\" } }\n",
    "{ \"_id\" : 3, \"nome\" : \"mouse\", \"qtd\" : 30, \"descricao\" : { \"conexao\" : \"USB 3.0\", \"sistema\" : [ \"Windows 10\", \"Linux\" ] }, \"decricao\" : { \"sistema\" : { \"0\" : \"Windows 10\" } }, \"data_modificacao\" : ISODate(\"2022-06-10T04:13:42.799Z\"), \"ts_modificado\" : Timestamp(1654838400, 1) }\n",
    "{ \"_id\" : 4, \"nome\" : \"hd externo\", \"qtd\" : 20, \"descricao\" : { \"conexao\" : \"USB 3.0\", \"armazenamento\" : \"500GB\", \"sistema\" : [ \"Windows 10\", \"Windows 8\", \"Windows 7\", \"Linux\" ] }, \"data_modificacao\" : ISODate(\"2022-06-10T04:13:42.799Z\") }"
   ]
  },
  {
   "cell_type": "markdown",
   "metadata": {},
   "source": [
    "5.Visualizar o plano de execução do exercício 4"
   ]
  },
  {
   "cell_type": "code",
   "execution_count": null,
   "metadata": {
    "vscode": {
     "languageId": "plaintext"
    }
   },
   "outputs": [],
   "source": [
    " db.produto.find().explain()\n",
    " \n",
    "{\n",
    "        \"explainVersion\" : \"1\",\n",
    "        \"queryPlanner\" : {\n",
    "                \"namespace\" : \"esther.produto\",\n",
    "                \"indexFilterSet\" : false,\n",
    "                \"parsedQuery\" : {\n",
    "\n",
    "                },\n",
    "                \"queryHash\" : \"8B3D4AB8\",\n",
    "                \"planCacheKey\" : \"D542626C\",\n",
    "                \"maxIndexedOrSolutionsReached\" : false,\n",
    "                \"maxIndexedAndSolutionsReached\" : false,\n",
    "                \"maxScansToExplodeReached\" : false,\n",
    "                \"winningPlan\" : {\n",
    "                        \"stage\" : \"COLLSCAN\",\n",
    "                        \"direction\" : \"forward\"\n",
    "                },\n",
    "                \"rejectedPlans\" : [ ]\n",
    "        },\n",
    "        \"command\" : {\n",
    "                \"find\" : \"produto\",\n",
    "                \"filter\" : {\n",
    "\n",
    "                },\n",
    "                \"$db\" : \"esther\"\n",
    "        },\n",
    "        \"serverInfo\" : {\n",
    "                \"host\" : \"0993445234b7\",\n",
    "                \"port\" : 27017,\n",
    "                \"version\" : \"5.0.9\",\n",
    "                \"gitVersion\" : \"6f7dae919422dcd7f4892c10ff20cdc721ad00e6\"\n",
    "        },\n",
    "        \"serverParameters\" : {\n",
    "                \"internalQueryFacetBufferSizeBytes\" : 104857600,\n",
    "                \"internalQueryFacetMaxOutputDocSizeBytes\" : 104857600,\n",
    "                \"internalLookupStageIntermediateDocumentMaxSizeBytes\" : 104857600,\n",
    "                \"internalDocumentSourceGroupMaxMemoryBytes\" : 104857600,\n",
    "                \"internalQueryMaxBlockingSortMemoryUsageBytes\" : 104857600,\n",
    "                \"internalQueryProhibitBlockingMergeOnMongoS\" : 0,\n",
    "                \"internalQueryMaxAddToSetBytes\" : 104857600,\n",
    "                \"internalDocumentSourceSetWindowFieldsMaxMemoryBytes\" : 104857600\n",
    "        },\n",
    "        \"ok\" : 1\n",
    "}"
   ]
  },
  {
   "cell_type": "markdown",
   "metadata": {},
   "source": [
    "6.Pesquisar todos os documentos da collection produto, com uso da index “query_produto”"
   ]
  },
  {
   "cell_type": "code",
   "execution_count": null,
   "metadata": {
    "vscode": {
     "languageId": "plaintext"
    }
   },
   "outputs": [],
   "source": [
    "db.produto.find().hint({nome:1})\n",
    "\n",
    "{ \"_id\" : 1, \"nome\" : \"cpu i7\", \"qtd\" : 15 }\n",
    "{ \"_id\" : 4, \"nome\" : \"hd externo\", \"qtd\" : 20, \"descricao\" : { \"conexao\" : \"USB 3.0\", \"armazenamento\" : \"500GB\", \"sistema\" : [ \"Windows 10\", \"Windows 8\", \"Windows 7\", \"Linux\" ] }, \"data_modificacao\" : ISODate(\"2022-06-10T04:13:42.799Z\") }\n",
    "{ \"_id\" : 2, \"nome\" : \"memória ram\", \"qtd\" : 10, \"descricao\" : { \"armazenamento\" : \"8GB\", \"tipo\" : \"DDR4\" } }\n",
    "{ \"_id\" : 3, \"nome\" : \"mouse\", \"qtd\" : 30, \"descricao\" : { \"conexao\" : \"USB 3.0\", \"sistema\" : [ \"Windows 10\", \"Linux\" ] }, \"decricao\" : { \"sistema\" : { \"0\" : \"Windows 10\" } }, \"data_modificacao\" : ISODate(\"2022-06-10T04:13:42.799Z\"), \"ts_modificado\" : Timestamp(1654838400, 1) }"
   ]
  },
  {
   "cell_type": "markdown",
   "metadata": {},
   "source": [
    "7.Visualizar o plano de execução do exercício 7"
   ]
  },
  {
   "cell_type": "code",
   "execution_count": null,
   "metadata": {
    "vscode": {
     "languageId": "plaintext"
    }
   },
   "outputs": [],
   "source": [
    "db.produto.explain().find().hint({nome:1})\n",
    "\n",
    "{\n",
    "        \"explainVersion\" : \"1\",\n",
    "        \"queryPlanner\" : {\n",
    "                \"namespace\" : \"esther.produto\",\n",
    "                \"indexFilterSet\" : false,\n",
    "                \"parsedQuery\" : {\n",
    "\n",
    "                },\n",
    "                \"queryHash\" : \"8B3D4AB8\",\n",
    "                \"planCacheKey\" : \"D542626C\",\n",
    "                \"maxIndexedOrSolutionsReached\" : false,\n",
    "                \"maxIndexedAndSolutionsReached\" : false,\n",
    "                \"maxScansToExplodeReached\" : false,\n",
    "                \"winningPlan\" : {\n",
    "                        \"stage\" : \"FETCH\",\n",
    "                        \"inputStage\" : {\n",
    "                                \"stage\" : \"IXSCAN\",\n",
    "                                \"keyPattern\" : {\n",
    "                                        \"nome\" : 1\n",
    "                                },\n",
    "                                \"indexName\" : \"query_produto\",\n",
    "                                \"isMultiKey\" : false,\n",
    "                                \"multiKeyPaths\" : {\n",
    "                                        \"nome\" : [ ]\n",
    "                                },\n",
    "                                \"isUnique\" : false,\n",
    "                                \"isSparse\" : false,\n",
    "                                \"isPartial\" : false,\n",
    "                                \"indexVersion\" : 2,\n",
    "                                \"direction\" : \"forward\",\n",
    "                                \"indexBounds\" : {\n",
    "                                        \"nome\" : [\n",
    "                                                \"[MinKey, MaxKey]\"\n",
    "                                        ]\n",
    "                                }\n",
    "                        }\n",
    "                },\n",
    "                \"rejectedPlans\" : [ ]\n",
    "        },\n",
    "        \"command\" : {\n",
    "                \"find\" : \"produto\",\n",
    "                \"filter\" : {\n",
    "\n",
    "                },\n",
    "                \"hint\" : {\n",
    "                        \"nome\" : 1\n",
    "                },\n",
    "                \"$db\" : \"esther\"\n",
    "        },\n",
    "        \"serverInfo\" : {\n",
    "                \"host\" : \"0993445234b7\",\n",
    "                \"port\" : 27017,\n",
    "                \"version\" : \"5.0.9\",\n",
    "                \"gitVersion\" : \"6f7dae919422dcd7f4892c10ff20cdc721ad00e6\"\n",
    "        },\n",
    "        \"serverParameters\" : {\n",
    "                \"internalQueryFacetBufferSizeBytes\" : 104857600,\n",
    "                \"internalQueryFacetMaxOutputDocSizeBytes\" : 104857600,\n",
    "                \"internalLookupStageIntermediateDocumentMaxSizeBytes\" : 104857600,\n",
    "                \"internalDocumentSourceGroupMaxMemoryBytes\" : 104857600,\n",
    "                \"internalQueryMaxBlockingSortMemoryUsageBytes\" : 104857600,\n",
    "                \"internalQueryProhibitBlockingMergeOnMongoS\" : 0,\n",
    "                \"internalQueryMaxAddToSetBytes\" : 104857600,\n",
    "                \"internalDocumentSourceSetWindowFieldsMaxMemoryBytes\" : 104857600\n",
    "        },\n",
    "        \"ok\" : 1\n",
    "}"
   ]
  },
  {
   "cell_type": "markdown",
   "metadata": {},
   "source": [
    "8.Remover o index “query_produto”"
   ]
  },
  {
   "cell_type": "code",
   "execution_count": null,
   "metadata": {
    "vscode": {
     "languageId": "plaintext"
    }
   },
   "outputs": [],
   "source": [
    "db.produto.dropIndex({nome:1})\n",
    "{ \"nIndexesWas\" : 2, \"ok\" : 1 }"
   ]
  },
  {
   "cell_type": "markdown",
   "metadata": {},
   "source": [
    "9.Pesquisar todos os índices da collection produto"
   ]
  },
  {
   "cell_type": "code",
   "execution_count": null,
   "metadata": {
    "vscode": {
     "languageId": "plaintext"
    }
   },
   "outputs": [],
   "source": [
    "db.produto.getIndexes()\n",
    "[ { \"v\" : 2, \"key\" : { \"_id\" : 1 }, \"name\" : \"_id_\" } ]"
   ]
  },
  {
   "cell_type": "markdown",
   "metadata": {},
   "source": [
    "## Consultas com Regex\n",
    "1.Mostrar todos os documentos da collection produto do banco de dados seu nome"
   ]
  },
  {
   "cell_type": "code",
   "execution_count": null,
   "metadata": {
    "vscode": {
     "languageId": "plaintext"
    }
   },
   "outputs": [],
   "source": [
    "db.produto.find()\n",
    "{ \"_id\" : 1, \"nome\" : \"cpu i7\", \"qtd\" : 15 }\n",
    "{ \"_id\" : 2, \"nome\" : \"memória ram\", \"qtd\" : 10, \"descricao\" : { \"armazenamento\" : \"8GB\", \"tipo\" : \"DDR4\" } }\n",
    "{ \"_id\" : 3, \"nome\" : \"mouse\", \"qtd\" : 30, \"descricao\" : { \"conexao\" : \"USB 3.0\", \"sistema\" : [ \"Windows 10\", \"Linux\" ] }, \"decricao\" : { \"sistema\" : { \"0\" : \"Windows 10\" } }, \"data_modificacao\" : ISODate(\"2022-06-10T04:13:42.799Z\"), \"ts_modificado\" : Timestamp(1654838400, 1) }\n",
    "{ \"_id\" : 4, \"nome\" : \"hd externo\", \"qtd\" : 20, \"descricao\" : { \"conexao\" : \"USB 3.0\", \"armazenamento\" : \"500GB\", \"sistema\" : [ \"Windows 10\", \"Windows 8\", \"Windows 7\", \"Linux\" ] }, \"data_modificacao\" : ISODate(\"2022-06-10T04:13:42.799Z\") }"
   ]
  },
  {
   "cell_type": "markdown",
   "metadata": {},
   "source": [
    "2.Buscar os documentos com o atributo nome,  que contenham a palavra “cpu”"
   ]
  },
  {
   "cell_type": "code",
   "execution_count": null,
   "metadata": {
    "vscode": {
     "languageId": "plaintext"
    }
   },
   "outputs": [],
   "source": [
    "db.produto.find({nome: {$regex: /cpu/i}})\n",
    "\n",
    "{ \"_id\" : 1, \"nome\" : \"cpu i7\", \"qtd\" : 15 }"
   ]
  },
  {
   "cell_type": "markdown",
   "metadata": {},
   "source": [
    "3.Buscar os documentos  com o atributo nome, que começam por “hd” e apresentar os campos nome e qtd"
   ]
  },
  {
   "cell_type": "code",
   "execution_count": null,
   "metadata": {
    "vscode": {
     "languageId": "plaintext"
    }
   },
   "outputs": [],
   "source": [
    "db.produto.find({nome: {$regex: /^hd/}},{nome:1,qtd:1})\n",
    "\n",
    "{ \"_id\" : 4, \"nome\" : \"hd externo\", \"qtd\" : 20 }"
   ]
  },
  {
   "cell_type": "markdown",
   "metadata": {},
   "source": [
    "4.Buscar os documentos  com o atributo descricao.armazenamento, que terminam com “GB” ou “gb” e apresentar os campos nome e descricao"
   ]
  },
  {
   "cell_type": "code",
   "execution_count": null,
   "metadata": {
    "vscode": {
     "languageId": "plaintext"
    }
   },
   "outputs": [],
   "source": [
    "db.produto.find({\"descricao.armazenamento\": {$regex: /gb$/i}},{nome:1,descricao:1})\n",
    "{ \"_id\" : 2, \"nome\" : \"memória ram\", \"descricao\" : { \"armazenamento\" : \"8GB\", \"tipo\" : \"DDR4\" } }\n",
    "{ \"_id\" : 4, \"nome\" : \"hd externo\", \"descricao\" : { \"conexao\" : \"USB 3.0\", \"armazenamento\" : \"500GB\", \"sistema\" : [ \"Windows 10\", \"Windows 8\", \"Windows 7\", \"Linux\" ] } }"
   ]
  },
  {
   "cell_type": "markdown",
   "metadata": {},
   "source": [
    "5.Buscar os documentos  com o atributo nome, que contenha a palavra memória, ignorando a letra “o”"
   ]
  },
  {
   "cell_type": "code",
   "execution_count": null,
   "metadata": {
    "vscode": {
     "languageId": "plaintext"
    }
   },
   "outputs": [],
   "source": [
    "db.produto.find({nome: {$regex: /mem.ria/}})\n",
    "\n",
    "{ \"_id\" : 2, \"nome\" : \"memória ram\", \"qtd\" : 10, \"descricao\" : { \"armazenamento\" : \"8GB\", \"tipo\" : \"DDR4\" } }"
   ]
  },
  {
   "cell_type": "markdown",
   "metadata": {},
   "source": [
    "6.Buscar os documentos  com o atributo qtd  que contenham valores com letras, ao invés de números."
   ]
  },
  {
   "cell_type": "code",
   "execution_count": null,
   "metadata": {
    "vscode": {
     "languageId": "plaintext"
    }
   },
   "outputs": [],
   "source": [
    "db.produto.find({qtd: {$regex: /[a-z]/}})\n",
    "#todos os valores de qtd são numéricos, por isso, a consulta retorna nada"
   ]
  },
  {
   "cell_type": "markdown",
   "metadata": {},
   "source": [
    "7.Buscar os documentos com o atributo descricao.sistema, que tenha exatamente a palavra “Windows”"
   ]
  },
  {
   "cell_type": "code",
   "execution_count": null,
   "metadata": {
    "vscode": {
     "languageId": "plaintext"
    }
   },
   "outputs": [],
   "source": [
    "db.produto.find({\"descricao.sistema\": {$regex: /^Windows$/}})"
   ]
  }
 ],
 "metadata": {
  "language_info": {
   "name": "python"
  },
  "orig_nbformat": 4
 },
 "nbformat": 4,
 "nbformat_minor": 2
}
